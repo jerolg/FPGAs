{
 "cells": [
  {
   "cell_type": "code",
   "execution_count": 718,
   "id": "0971366b",
   "metadata": {},
   "outputs": [],
   "source": [
    "#When updating the imported Vivado files (.bit, .hwh, .tcl), it is necessary to restart the PL.\n",
    "from pynq import PL\n",
    "PL.reset()"
   ]
  },
  {
   "cell_type": "code",
   "execution_count": 729,
   "id": "51a62eb0",
   "metadata": {},
   "outputs": [
    {
     "name": "stdout",
     "output_type": "stream",
     "text": [
      "Accesible IP-Cores:\n"
     ]
    },
    {
     "data": {
      "text/plain": [
       "dict_keys(['axi_dma_0', 'GPIO_CTRL/DECIM_AND_SIGNAL_SEL', 'GPIO_CTRL/THRESHOLD_CTRL', 'GPIO_CTRL/PRETRIG_AND_WINDOW_CTRL', 'GPIO_CTRL/TEST_SIGNALS', 'processing_system7_0'])"
      ]
     },
     "execution_count": 729,
     "metadata": {},
     "output_type": "execute_result"
    }
   ],
   "source": [
    "#Libraries and Overlay upload\n",
    "\n",
    "from pynq import Overlay, Clocks, allocate\n",
    "from pynq import allocate\n",
    "import numpy as np\n",
    "import matplotlib.pyplot as plt\n",
    "import time\n",
    "\n",
    "overlay = Overlay('trig_uart1msps.bit')\n",
    "\n",
    "print(\"Accesible IP-Cores:\")\n",
    "overlay.ip_dict.keys()"
   ]
  },
  {
   "cell_type": "code",
   "execution_count": 739,
   "id": "c8452aaf",
   "metadata": {},
   "outputs": [],
   "source": [
    "#DMA initialization\n",
    "dma = overlay.axi_dma_0   \n",
    "dma_recv = dma.recvchannel\n",
    "\n",
    "GPIO = overlay.GPIO_CTRL\n",
    "\n",
    "#--------------------------------------------------------------------\n",
    "\n",
    "#GPIO control of pretrigger samples and total samples in window\n",
    "xgpio_pretrig_wind = GPIO.PRETRIG_AND_WINDOW_CTRL\n",
    "\n",
    "\n",
    "xgpio_pretrig_wind.write(0,1024) #Total window samples\n",
    "xgpio_pretrig_wind.write(8,100)  #Pretrigger samples\n",
    "\n",
    "#--------------------------------------------------------------------\n",
    "\n",
    "#GPIO control of decimation factor and reference signal selection\n",
    "xgpio_decim_signal_sel = GPIO.DECIM_AND_SIGNAL_SEL\n",
    "\n",
    "decim_factor = 1\n",
    "\n",
    "xgpio_decim_signal_sel.write(0, decim_factor) #Decimation factor (1 for decimation off)\n",
    "\n",
    "#Predefined reference signal selection\n",
    "#0x0 DC CONSTANT 0.5v monopolar mode\n",
    "#0x1 FILTERED SIGNAL\n",
    "#0x2 NOISY SIGNAL\n",
    "#0x3 EXPONENTIAL\n",
    "xgpio_decim_signal_sel.write(8, 0x2) #signal selection\n",
    "\n",
    "#--------------------------------------------------------------------\n",
    "\n",
    "#GPIO control of threshold_control\n",
    "xgpio_thresh = GPIO.THRESHOLD_CTRL\n",
    "\n",
    "thresh_level = 50000\n",
    "xgpio_thresh.write(0, thresh_level)  #Threshold Level\n",
    "xgpio_thresh.write(8, 0x0) #Edge sel\n",
    "\n",
    "#--------------------------------------------------------------------\n",
    "\n",
    "#GPIO control of XADC TESTING\n",
    "xgpio_reference = GPIO.TEST_SIGNALS"
   ]
  },
  {
   "cell_type": "code",
   "execution_count": 740,
   "id": "25337ed4",
   "metadata": {},
   "outputs": [
    {
     "data": {
      "text/plain": [
       "19497"
      ]
     },
     "execution_count": 740,
     "metadata": {},
     "output_type": "execute_result"
    }
   ],
   "source": [
    "xgpio_reference.read(0)  #Reference value (XADC TESTING)"
   ]
  },
  {
   "cell_type": "markdown",
   "id": "16553d6a",
   "metadata": {},
   "source": [
    "En este caso se hace el uso del XADC de la PYNQ en modo unipolar para voltajes de referencia de 0V a 1V, en el caso de configurarse mediante modificaciones en el diseño de hardaware en modo bipolar, se tienen valores de referencia de -0.5V a 0.5V"
   ]
  },
  {
   "cell_type": "code",
   "execution_count": 741,
   "id": "82a75a67",
   "metadata": {},
   "outputs": [],
   "source": [
    "buffer_size = 1040\n",
    "#DMA buffer size assignment\n",
    "\n",
    "#Input buffer declaration\n",
    "input_buffer = allocate(shape=(buffer_size,)) #, dtype=np.uint16)\n",
    "data_resol=16"
   ]
  },
  {
   "cell_type": "code",
   "execution_count": null,
   "id": "e98f5a36",
   "metadata": {},
   "outputs": [],
   "source": [
    "data_out = []\n",
    "t, t_0 = [], 0\n",
    "cycles = 1\n",
    "start = time.time()\n",
    "\n",
    "XADC_SR = 1000000 #XADC Sample Rate in samples/sec\n",
    "\n",
    "for i in range(0,cycles):\n",
    "    \n",
    "    #time.sleep(.1)\n",
    "    dma.recvchannel.transfer(input_buffer)\n",
    "    dma.recvchannel.wait()\n",
    "    \n",
    "    data_out.append(input_buffer/2**16)  \n",
    "    \n",
    "    \n",
    "data_out = np.array(data_out).flatten()\n",
    "\n",
    "print('ADQUISITION READY')\n",
    "print('DMA idle Status:',dma.recvchannel.idle)\n",
    "\n",
    "#Time sampling\n",
    "t_factor = len(data_out)*decim_factor/XADC_SR*1e6 #us scale\n",
    "\n",
    "t = np.linspace(0, t_factor, len(data_out))\n",
    "\n",
    "\n",
    "plt.figure(figsize=(15, 4))\n",
    "plt.plot(t, data_out)\n",
    "#plt.hlines(thresh_level, 0, buffer_size, linestyle = 'dashed', color = 'r', alpha=.5)\n",
    "\n",
    "#Subdivision of individual DMA adquisition\n",
    "#for k in range(0, cycles):\n",
    "#    plt.vlines(1024*k, 0, 2**data_resol, color='red', linestyle='dashed')\n",
    "    \n",
    "plt.title(\"DMA read\")\n",
    "\n",
    "plt.xlabel(\"A.U.\")\n",
    "plt.ylabel(\"Dig. value\")\n",
    "#plt.xlim(0, 100)\n",
    "plt.grid()\n",
    "\n",
    "plt.show()\n",
    "\n",
    "#np.savetxt(\"data_out.txt\", data_out)"
   ]
  },
  {
   "cell_type": "code",
   "execution_count": 708,
   "id": "5aebb1f1",
   "metadata": {},
   "outputs": [],
   "source": [
    "del input_buffer"
   ]
  },
  {
   "cell_type": "raw",
   "id": "5d051686",
   "metadata": {},
   "source": [
    "-------------------------------------------CELDAS DE CODIGO ANTERIORES---------------------------------------------------------\n"
   ]
  },
  {
   "cell_type": "code",
   "execution_count": 32,
   "id": "9fd9e27b",
   "metadata": {},
   "outputs": [
    {
     "ename": "KeyboardInterrupt",
     "evalue": "",
     "output_type": "error",
     "traceback": [
      "\u001b[0;31m---------------------------------------------------------------------------\u001b[0m",
      "\u001b[0;31mKeyboardInterrupt\u001b[0m                         Traceback (most recent call last)",
      "Input \u001b[0;32mIn [32]\u001b[0m, in \u001b[0;36m<cell line: 14>\u001b[0;34m()\u001b[0m\n\u001b[1;32m     14\u001b[0m \u001b[38;5;28;01mfor\u001b[39;00m i \u001b[38;5;129;01min\u001b[39;00m \u001b[38;5;28mrange\u001b[39m(\u001b[38;5;241m0\u001b[39m,cycles):\n\u001b[1;32m     15\u001b[0m     \u001b[38;5;66;03m#time.sleep(.1)\u001b[39;00m\n\u001b[1;32m     16\u001b[0m     \n\u001b[1;32m     17\u001b[0m     \u001b[38;5;66;03m#Transfer FIFO memory to input_buffer\u001b[39;00m\n\u001b[1;32m     18\u001b[0m     \u001b[38;5;66;03m#if dma.recvchannel.idle:\u001b[39;00m\n\u001b[1;32m     19\u001b[0m     dma\u001b[38;5;241m.\u001b[39mrecvchannel\u001b[38;5;241m.\u001b[39mtransfer(input_buffer)\n\u001b[0;32m---> 20\u001b[0m     \u001b[43mdma\u001b[49m\u001b[38;5;241;43m.\u001b[39;49m\u001b[43mrecvchannel\u001b[49m\u001b[38;5;241;43m.\u001b[39;49m\u001b[43mwait\u001b[49m\u001b[43m(\u001b[49m\u001b[43m)\u001b[49m\n\u001b[1;32m     22\u001b[0m     \u001b[38;5;66;03m#Data normalization to voltage limits reference 0v -1v (Unipolar Mode XADC)\u001b[39;00m\n\u001b[1;32m     23\u001b[0m     input_buffer1 \u001b[38;5;241m=\u001b[39m input_buffer\u001b[38;5;241m/\u001b[39m\u001b[38;5;241m2\u001b[39m\u001b[38;5;241m*\u001b[39m\u001b[38;5;241m*\u001b[39mdata_resol\n",
      "File \u001b[0;32m/usr/local/share/pynq-venv/lib/python3.10/site-packages/pynq/lib/dma.py:171\u001b[0m, in \u001b[0;36m_SDMAChannel.wait\u001b[0;34m(self)\u001b[0m\n\u001b[1;32m    169\u001b[0m     \u001b[38;5;28;01mraise\u001b[39;00m \u001b[38;5;167;01mRuntimeError\u001b[39;00m(\u001b[38;5;124m\"\u001b[39m\u001b[38;5;124mDMA channel not started\u001b[39m\u001b[38;5;124m\"\u001b[39m)\n\u001b[1;32m    170\u001b[0m \u001b[38;5;28;01mwhile\u001b[39;00m \u001b[38;5;28;01mTrue\u001b[39;00m:\n\u001b[0;32m--> 171\u001b[0m     error \u001b[38;5;241m=\u001b[39m \u001b[38;5;28;43mself\u001b[39;49m\u001b[38;5;241;43m.\u001b[39;49m\u001b[43m_mmio\u001b[49m\u001b[38;5;241;43m.\u001b[39;49m\u001b[43mread\u001b[49m\u001b[43m(\u001b[49m\u001b[38;5;28;43mself\u001b[39;49m\u001b[38;5;241;43m.\u001b[39;49m\u001b[43m_offset\u001b[49m\u001b[43m \u001b[49m\u001b[38;5;241;43m+\u001b[39;49m\u001b[43m \u001b[49m\u001b[38;5;241;43m4\u001b[39;49m\u001b[43m)\u001b[49m\n\u001b[1;32m    172\u001b[0m     \u001b[38;5;28;01mif\u001b[39;00m \u001b[38;5;28mself\u001b[39m\u001b[38;5;241m.\u001b[39merror:\n\u001b[1;32m    173\u001b[0m         \u001b[38;5;28;01mif\u001b[39;00m error \u001b[38;5;241m&\u001b[39m \u001b[38;5;241m0x10\u001b[39m:\n",
      "File \u001b[0;32m/usr/local/share/pynq-venv/lib/python3.10/site-packages/pynq/mmio.py:82\u001b[0m, in \u001b[0;36mMMIO.read\u001b[0;34m(self, offset, length, word_order)\u001b[0m\n\u001b[1;32m     79\u001b[0m     \u001b[38;5;28;01melse\u001b[39;00m:\n\u001b[1;32m     80\u001b[0m         \u001b[38;5;28;01mraise\u001b[39;00m \u001b[38;5;167;01mValueError\u001b[39;00m(\u001b[38;5;124m\"\u001b[39m\u001b[38;5;124mDevice does not have capabilities for MMIO\u001b[39m\u001b[38;5;124m\"\u001b[39m)\n\u001b[0;32m---> 82\u001b[0m \u001b[38;5;28;01mdef\u001b[39;00m \u001b[38;5;21mread\u001b[39m(\u001b[38;5;28mself\u001b[39m, offset\u001b[38;5;241m=\u001b[39m\u001b[38;5;241m0\u001b[39m, length\u001b[38;5;241m=\u001b[39m\u001b[38;5;241m4\u001b[39m, word_order\u001b[38;5;241m=\u001b[39m\u001b[38;5;124m\"\u001b[39m\u001b[38;5;124mlittle\u001b[39m\u001b[38;5;124m\"\u001b[39m):\n\u001b[1;32m     83\u001b[0m     \u001b[38;5;124;03m\"\"\"The method to read data from MMIO.\u001b[39;00m\n\u001b[1;32m     84\u001b[0m \n\u001b[1;32m     85\u001b[0m \u001b[38;5;124;03m    For the `word_order` parameter, it is only effective when\u001b[39;00m\n\u001b[0;32m   (...)\u001b[0m\n\u001b[1;32m    106\u001b[0m \n\u001b[1;32m    107\u001b[0m \u001b[38;5;124;03m    \"\"\"\u001b[39;00m\n\u001b[1;32m    108\u001b[0m     \u001b[38;5;28;01mif\u001b[39;00m length \u001b[38;5;129;01mnot\u001b[39;00m \u001b[38;5;129;01min\u001b[39;00m [\u001b[38;5;241m1\u001b[39m, \u001b[38;5;241m2\u001b[39m, \u001b[38;5;241m4\u001b[39m, \u001b[38;5;241m8\u001b[39m]:\n",
      "\u001b[0;31mKeyboardInterrupt\u001b[0m: "
     ]
    }
   ],
   "source": [
    "#Address 28 for XADC input analog pins VAUXP12=A6, VAUXN12=A7\n",
    "XADC_SR = 1000000 #XADC Sample Rate in samples/sec\n",
    "\n",
    "#DMA initialization\n",
    "#dma = overlay.axi_dma_0   \n",
    "#dma_recv = dma.recvchannel\n",
    "\n",
    "data_out = []\n",
    "t, t_0 = [], 0\n",
    "cycles = 1\n",
    "start = time.time()\n",
    "\n",
    "\n",
    "for i in range(0,cycles):\n",
    "    #time.sleep(.1)\n",
    "    \n",
    "    #Transfer FIFO memory to input_buffer\n",
    "    #if dma.recvchannel.idle:\n",
    "    dma.recvchannel.transfer(input_buffer)\n",
    "    dma.recvchannel.wait()\n",
    "    \n",
    "    #Data normalization to voltage limits reference 0v -1v (Unipolar Mode XADC)\n",
    "    input_buffer1 = input_buffer/2**data_resol\n",
    "    \n",
    "    data_out.append(input_buffer1[:buffer_size-4])  \n",
    "    \n",
    "    #t.append(np.linspace(0, t_factor, len(input_buffer1[:16384])))\n",
    "    \n",
    "\n",
    "#Implementar en caso de tener XADC modo Bipolar(-0.5V --> 0.5V)\n",
    "\n",
    "#for i in range(len(input_buffer1)):\n",
    "#    if  input_buffer1[i]>0.5:\n",
    "#        input_buffer1[i] = input_buffer1[i]-1\n",
    "\n",
    "data_out = np.array(data_out).flatten()\n",
    "\n",
    "\n",
    "#Time sampling\n",
    "t_factor = len(input_buffer1[:buffer_size-4])/XADC_SR * 1000\n",
    "\n",
    "t = np.linspace(0, t_factor*cycles, len(input_buffer1[:buffer_size-4])*cycles)\n",
    "\n",
    "print('ADQUISITION READY')\n",
    "\n",
    "\n",
    "print('DMA idle Status:',dma.recvchannel.idle)\n",
    "\n",
    "plt.figure(figsize=(15, 4))\n",
    "plt.plot(t, data_out)\n",
    "\n",
    "#Subdivision of individual DMA adquisition\n",
    "for k in range(0, cycles):\n",
    "    plt.vlines(t_factor*k, 0, 1, color='red', linestyle='dashed')\n",
    "    \n",
    "plt.title(\"XADC Samples\")\n",
    "plt.xlabel(\"time (t) in ms\")\n",
    "plt.ylabel(\"XADC Monopolar Volt. Level\")\n",
    "#plt.ylim(200, 250)\n",
    "plt.grid()\n",
    "plt.show()\n",
    "print(f\"XADC Sampling Rate: {XADC_SR} SPS \\n{len(data_out)} samples in {t[-1]} ms\")\n",
    "#np.savetxt(\"data_out.txt\", data_out)\n"
   ]
  }
 ],
 "metadata": {
  "kernelspec": {
   "display_name": "Python 3 (ipykernel)",
   "language": "python",
   "name": "python3"
  },
  "language_info": {
   "codemirror_mode": {
    "name": "ipython",
    "version": 3
   },
   "file_extension": ".py",
   "mimetype": "text/x-python",
   "name": "python",
   "nbconvert_exporter": "python",
   "pygments_lexer": "ipython3",
   "version": "3.10.4"
  }
 },
 "nbformat": 4,
 "nbformat_minor": 5
}
